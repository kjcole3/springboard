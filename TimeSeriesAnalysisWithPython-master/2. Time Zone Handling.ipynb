{
 "cells": [
  {
   "cell_type": "code",
   "execution_count": 1,
   "metadata": {
    "collapsed": true
   },
   "outputs": [],
   "source": [
    "import numpy as np\n",
    "import pandas as pd"
   ]
  },
  {
   "cell_type": "code",
   "execution_count": 6,
   "metadata": {},
   "outputs": [],
   "source": [
    "rng = pd.date_range('3/6/2012 00:00', periods = 15, freq = 'D')\n",
    "rng.tz"
   ]
  },
  {
   "cell_type": "code",
   "execution_count": 4,
   "metadata": {
    "collapsed": true
   },
   "outputs": [],
   "source": [
    "#If you want a time zone then you have to put it in explicitly. \n",
    "#Compare above and below code blocks"
   ]
  },
  {
   "cell_type": "code",
   "execution_count": 5,
   "metadata": {},
   "outputs": [
    {
     "data": {
      "text/plain": [
       "<DstTzInfo 'Europe/London' LMT-1 day, 23:59:00 STD>"
      ]
     },
     "execution_count": 5,
     "metadata": {},
     "output_type": "execute_result"
    }
   ],
   "source": [
    "rng_tz = pd.date_range('3/6/2012 00:00', periods = 15, freq = 'D', tz = 'Europe/London')\n",
    "rng_tz.tz"
   ]
  },
  {
   "cell_type": "code",
   "execution_count": 7,
   "metadata": {
    "collapsed": true
   },
   "outputs": [],
   "source": [
    "#Getting lists of time zones"
   ]
  },
  {
   "cell_type": "code",
   "execution_count": 9,
   "metadata": {},
   "outputs": [
    {
     "name": "stdout",
     "output_type": "stream",
     "text": [
      "439\n",
      "593\n"
     ]
    }
   ],
   "source": [
    "from pytz import common_timezones, all_timezones\n",
    "print(len(common_timezones))\n",
    "print(len(all_timezones))\n"
   ]
  },
  {
   "cell_type": "code",
   "execution_count": 10,
   "metadata": {},
   "outputs": [
    {
     "name": "stdout",
     "output_type": "stream",
     "text": [
      "{'America/Knox_IN', 'America/Atka', 'Greenwich', 'Iran', 'Cuba', 'Hongkong', 'America/Ensenada', 'ROK', 'Antarctica/South_Pole', 'Australia/NSW', 'Australia/North', 'MST', 'Etc/GMT-6', 'EST', 'PST8PDT', 'Canada/East-Saskatchewan', 'EST5EDT', 'America/Buenos_Aires', 'Etc/GMT-2', 'Etc/GMT-1', 'Kwajalein', 'CET', 'Australia/Queensland', 'Etc/Greenwich', 'America/Indianapolis', 'Asia/Ujung_Pandang', 'Poland', 'Atlantic/Jan_Mayen', 'Etc/GMT+11', 'Asia/Tel_Aviv', 'America/Montreal', 'Asia/Chungking', 'US/Michigan', 'Europe/Belfast', 'Etc/GMT-9', 'Etc/GMT-10', 'America/Fort_Wayne', 'Europe/Nicosia', 'Etc/UCT', 'America/Cordoba', 'Pacific/Ponape', 'Portugal', 'Etc/GMT+1', 'Japan', 'Etc/Universal', 'Pacific/Yap', 'Australia/LHI', 'Etc/GMT+3', 'Etc/GMT+7', 'Asia/Thimbu', 'Brazil/Acre', 'Etc/GMT+12', 'UCT', 'Etc/GMT-4', 'Africa/Timbuktu', 'Asia/Saigon', 'Etc/Zulu', 'Singapore', 'PRC', 'America/Jujuy', 'GMT-0', 'Etc/GMT+2', 'Etc/GMT-14', 'Asia/Harbin', 'Australia/Yancowinna', 'Eire', 'Asia/Dacca', 'Etc/GMT+0', 'US/Pacific-New', 'Europe/Tiraspol', 'America/Rosario', 'WET', 'Brazil/East', 'Asia/Macao', 'Asia/Chongqing', 'America/Louisville', 'Africa/Asmera', 'Australia/South', 'GMT0', 'Libya', 'Etc/GMT-5', 'Canada/Saskatchewan', 'Etc/GMT+8', 'Etc/GMT-0', 'MET', 'Etc/GMT-3', 'Etc/GMT-7', 'Asia/Ashkhabad', 'Asia/Istanbul', 'Mexico/BajaSur', 'Asia/Ulan_Bator', 'Zulu', 'GB', 'America/Argentina/ComodRivadavia', 'Chile/Continental', 'CST6CDT', 'Asia/Kashgar', 'Australia/ACT', 'Navajo', 'Iceland', 'America/Coral_Harbour', 'Etc/GMT+6', 'US/Indiana-Starke', 'HST', 'Mexico/BajaNorte', 'US/Samoa', 'Brazil/DeNoronha', 'Etc/GMT+9', 'GMT+0', 'Australia/Canberra', 'EET', 'Chile/EasterIsland', 'Etc/GMT', 'NZ', 'MST7MDT', 'America/Shiprock', 'Universal', 'Canada/Yukon', 'Etc/GMT-8', 'US/Aleutian', 'W-SU', 'US/East-Indiana', 'America/Catamarca', 'Etc/GMT-12', 'NZ-CHAT', 'America/Porto_Acre', 'Mexico/General', 'Australia/West', 'ROC', 'America/Mendoza', 'Australia/Victoria', 'Asia/Katmandu', 'Etc/GMT0', 'Etc/UTC', 'Asia/Rangoon', 'America/Virgin', 'Etc/GMT+4', 'Pacific/Samoa', 'Atlantic/Faeroe', 'Etc/GMT-13', 'Egypt', 'Pacific/Johnston', 'Brazil/West', 'Etc/GMT-11', 'Jamaica', 'GB-Eire', 'Israel', 'Pacific/Truk', 'Etc/GMT+5', 'America/Santa_Isabel', 'Turkey', 'Australia/Tasmania', 'Etc/GMT+10', 'Asia/Calcutta'}\n"
     ]
    }
   ],
   "source": [
    "#What are some time zones not considered 'common'\n",
    "print(set(all_timezones) - set(common_timezones))"
   ]
  },
  {
   "cell_type": "code",
   "execution_count": null,
   "metadata": {
    "collapsed": true
   },
   "outputs": [],
   "source": []
  },
  {
   "cell_type": "code",
   "execution_count": 11,
   "metadata": {},
   "outputs": [
    {
     "data": {
      "text/plain": [
       "Timestamp('2016-07-10 08:50:00')"
      ]
     },
     "execution_count": 11,
     "metadata": {},
     "output_type": "execute_result"
    }
   ],
   "source": [
    "# You can also localize a naive timestamp\n",
    "t_naive = pd.Timestamp('2016-07-10 08:50')\n",
    "t_naive"
   ]
  },
  {
   "cell_type": "code",
   "execution_count": 12,
   "metadata": {},
   "outputs": [
    {
     "data": {
      "text/plain": [
       "Timestamp('2016-07-10 08:50:00-0500', tz='US/Central')"
      ]
     },
     "execution_count": 12,
     "metadata": {},
     "output_type": "execute_result"
    }
   ],
   "source": [
    "t = t_naive.tz_localize(tz = 'US/Central')\n",
    "t"
   ]
  },
  {
   "cell_type": "code",
   "execution_count": 13,
   "metadata": {},
   "outputs": [
    {
     "data": {
      "text/plain": [
       "Timestamp('2016-07-10 22:50:00+0900', tz='Asia/Tokyo')"
      ]
     },
     "execution_count": 13,
     "metadata": {},
     "output_type": "execute_result"
    }
   ],
   "source": [
    "t.tz_convert('Asia/Tokyo')"
   ]
  },
  {
   "cell_type": "code",
   "execution_count": null,
   "metadata": {
    "collapsed": true
   },
   "outputs": [],
   "source": [
    "#What is the difference between tz_convert and tz_localize?\n",
    "#hint: try to run tz_convert on a naive stamp\n",
    "\n",
    "#you can't just use one function"
   ]
  },
  {
   "cell_type": "code",
   "execution_count": null,
   "metadata": {
    "collapsed": true
   },
   "outputs": [],
   "source": []
  },
  {
   "cell_type": "code",
   "execution_count": null,
   "metadata": {
    "collapsed": true
   },
   "outputs": [],
   "source": [
    "#Ambiguous Times"
   ]
  },
  {
   "cell_type": "code",
   "execution_count": null,
   "metadata": {},
   "outputs": [],
   "source": [
    "# how to handle daylight savings?\n",
    "#1:30 mark in video\n",
    "rng = pd.date_range('2016-03-10', periods=10, tz='US/Central')\n",
    "ts = pd.Series(range(10), index=rng)\n",
    "ts"
   ]
  },
  {
   "cell_type": "code",
   "execution_count": null,
   "metadata": {},
   "outputs": [],
   "source": [
    "rng = pd.date_range('2016-03-10', periods=10, tz='utc')\n",
    "ts = pd.Series(range(10), index=rng)\n",
    "ts"
   ]
  },
  {
   "cell_type": "code",
   "execution_count": null,
   "metadata": {},
   "outputs": [],
   "source": [
    "ts.tz_convert('US/Central')"
   ]
  },
  {
   "cell_type": "code",
   "execution_count": null,
   "metadata": {},
   "outputs": [],
   "source": [
    "pd.date_range('03-12-2016 22:00', periods = 12, freq = 'H', tz = 'US/Eastern')"
   ]
  },
  {
   "cell_type": "code",
   "execution_count": null,
   "metadata": {},
   "outputs": [],
   "source": [
    "# May autocorrect an error rather than giving you a non-existent time error\n",
    "pd.Timestamp('2016-03-13 02:00', tz = 'US/Eastern')"
   ]
  },
  {
   "cell_type": "code",
   "execution_count": null,
   "metadata": {
    "collapsed": true
   },
   "outputs": [],
   "source": []
  }
 ],
 "metadata": {
  "kernelspec": {
   "display_name": "Python 3",
   "language": "python",
   "name": "python3"
  },
  "language_info": {
   "codemirror_mode": {
    "name": "ipython",
    "version": 3
   },
   "file_extension": ".py",
   "mimetype": "text/x-python",
   "name": "python",
   "nbconvert_exporter": "python",
   "pygments_lexer": "ipython3",
   "version": "3.6.1"
  },
  "widgets": {
   "state": {},
   "version": "1.1.1"
  }
 },
 "nbformat": 4,
 "nbformat_minor": 1
}
